{
  "nbformat": 4,
  "nbformat_minor": 0,
  "metadata": {
    "colab": {
      "provenance": [],
      "authorship_tag": "ABX9TyMrAZYLoyhF9zut+wpf/TMM",
      "include_colab_link": true
    },
    "kernelspec": {
      "name": "python3",
      "display_name": "Python 3"
    },
    "language_info": {
      "name": "python"
    }
  },
  "cells": [
    {
      "cell_type": "markdown",
      "metadata": {
        "id": "view-in-github",
        "colab_type": "text"
      },
      "source": [
        "<a href=\"https://colab.research.google.com/github/johnkinuthiaa/lux-Dev-Data-science-challenges/blob/main/lux_assignment.ipynb\" target=\"_parent\"><img src=\"https://colab.research.google.com/assets/colab-badge.svg\" alt=\"Open In Colab\"/></a>"
      ]
    },
    {
      "cell_type": "code",
      "execution_count": null,
      "metadata": {
        "id": "K-NBeC1aFOAt"
      },
      "outputs": [],
      "source": [
        "! pip install pyforest"
      ]
    },
    {
      "cell_type": "code",
      "source": [
        "!pip install pandas"
      ],
      "metadata": {
        "id": "X8XCUF4IG0Sd"
      },
      "execution_count": null,
      "outputs": []
    },
    {
      "cell_type": "markdown",
      "source": [],
      "metadata": {
        "id": "qOOgLwi6J3I_"
      }
    },
    {
      "cell_type": "code",
      "source": [
        "import pandas as pd\n",
        "import numpy as np\n",
        "df =pd.read_csv('/1. Weather_Data.csv')\n"
      ],
      "metadata": {
        "id": "K0-ATVqvG6Cd"
      },
      "execution_count": null,
      "outputs": []
    },
    {
      "cell_type": "code",
      "source": [
        "# print the first 10 rows of the dataset\n",
        "df.head(10)"
      ],
      "metadata": {
        "id": "4fpF6NE5Jw6R"
      },
      "execution_count": null,
      "outputs": []
    },
    {
      "cell_type": "code",
      "source": [
        "# print the last 10 rows of the dataset\n",
        "df.tail(10)"
      ],
      "metadata": {
        "id": "V1jk7qeuK5na"
      },
      "execution_count": null,
      "outputs": []
    },
    {
      "cell_type": "code",
      "source": [
        "# show the statistics of the dataset\n",
        "df.describe()"
      ],
      "metadata": {
        "id": "jm0O9bvILFMi"
      },
      "execution_count": null,
      "outputs": []
    },
    {
      "cell_type": "markdown",
      "source": [
        "\n",
        "\n",
        "```python\n",
        "df.describe()\n",
        "```\n",
        "This piece of code helps us to get the analysis of the whole dataset.The mean visibility is 0.2 as seen from the response.\n",
        "It also helps us see themean values for all the other weather conditions and they are as follows:\n",
        "\n",
        "*   temp_c: 8.798144.\n",
        "*   Dew point temp_c:2.555294.\n",
        "*   Rel Hum_%:67.431694.\n",
        "*   wind speed_km/h:14.945469.\n",
        "*   visibility_km:27.664447.\n",
        "*   press_kpa:101.051623.\n",
        "\n",
        "\n",
        "\n",
        "\n"
      ],
      "metadata": {
        "id": "8muT1uf_UvLZ"
      }
    },
    {
      "cell_type": "code",
      "source": [
        "# show the contents(number of rows and columns) of the dataset\n"
      ],
      "metadata": {
        "id": "oHUrHRuTLc9q"
      },
      "execution_count": null,
      "outputs": []
    },
    {
      "cell_type": "markdown",
      "source": [
        "**CLEANING THE DATASET**\n",
        "\n",
        "After inspecting the data,we go ahead and clean it by filling some missing and null values\n"
      ],
      "metadata": {
        "id": "Bq7YDb1IL_eH"
      }
    },
    {
      "cell_type": "code",
      "source": [
        "# rename the weather column\n",
        "df.rename(columns={'Weather':'Weather_Condition'}, inplace=True)\n"
      ],
      "metadata": {
        "id": "h1giOgQkL8lE"
      },
      "execution_count": null,
      "outputs": []
    },
    {
      "cell_type": "code",
      "source": [
        "# check whether the column has been renamed successfully\n",
        "df.head(10)"
      ],
      "metadata": {
        "id": "jZWZFeLuQSAb"
      },
      "execution_count": null,
      "outputs": []
    },
    {
      "cell_type": "code",
      "source": [
        "# check for missing values in the dataset\n",
        "df.isnull().values.any()\n",
        "# this helps us to see thetotal missing values in all the columns\n",
        "df.isnull().sum()"
      ],
      "metadata": {
        "id": "5TmQCAW1QohK"
      },
      "execution_count": null,
      "outputs": []
    },
    {
      "cell_type": "markdown",
      "source": [
        "**Export the new csv to sql**\n"
      ],
      "metadata": {
        "id": "9QKkMi0WYb0i"
      }
    },
    {
      "cell_type": "code",
      "source": [
        "\n"
      ],
      "metadata": {
        "id": "uCFFWJfvTfJP"
      },
      "execution_count": null,
      "outputs": []
    }
  ]
}